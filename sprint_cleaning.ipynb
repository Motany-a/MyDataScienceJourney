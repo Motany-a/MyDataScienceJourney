{
 "cells": [
  {
   "cell_type": "code",
   "execution_count": 17,
   "metadata": {},
   "outputs": [],
   "source": [
    "import pandas as pd\n",
    "import numpy as np\n",
    "import matplotlib.pyplot as plt\n"
   ]
  },
  {
   "cell_type": "code",
   "execution_count": 18,
   "metadata": {},
   "outputs": [
    {
     "data": {
      "text/plain": [
       "'C:\\\\Users\\\\user\\\\Downloads'"
      ]
     },
     "execution_count": 18,
     "metadata": {},
     "output_type": "execute_result"
    }
   ],
   "source": [
    "pwd"
   ]
  },
  {
   "cell_type": "code",
   "execution_count": 19,
   "metadata": {},
   "outputs": [
    {
     "data": {
      "text/html": [
       "<div>\n",
       "<style scoped>\n",
       "    .dataframe tbody tr th:only-of-type {\n",
       "        vertical-align: middle;\n",
       "    }\n",
       "\n",
       "    .dataframe tbody tr th {\n",
       "        vertical-align: top;\n",
       "    }\n",
       "\n",
       "    .dataframe thead th {\n",
       "        text-align: right;\n",
       "    }\n",
       "</style>\n",
       "<table border=\"1\" class=\"dataframe\">\n",
       "  <thead>\n",
       "    <tr style=\"text-align: right;\">\n",
       "      <th></th>\n",
       "      <th>Name</th>\n",
       "      <th>Country</th>\n",
       "      <th>Medal</th>\n",
       "      <th>Time</th>\n",
       "      <th>Year</th>\n",
       "      <th>color</th>\n",
       "    </tr>\n",
       "  </thead>\n",
       "  <tbody>\n",
       "    <tr>\n",
       "      <th>0</th>\n",
       "      <td>Usain Bolt</td>\n",
       "      <td>JAM</td>\n",
       "      <td>GOLD</td>\n",
       "      <td>9.63</td>\n",
       "      <td>2012</td>\n",
       "      <td>goldenrod</td>\n",
       "    </tr>\n",
       "    <tr>\n",
       "      <th>1</th>\n",
       "      <td>Yohan Blake</td>\n",
       "      <td>JAM</td>\n",
       "      <td>SILVER</td>\n",
       "      <td>9.75</td>\n",
       "      <td>2012</td>\n",
       "      <td>silver</td>\n",
       "    </tr>\n",
       "    <tr>\n",
       "      <th>2</th>\n",
       "      <td>Justin Gatlin</td>\n",
       "      <td>USA</td>\n",
       "      <td>BRONZE</td>\n",
       "      <td>9.79</td>\n",
       "      <td>2012</td>\n",
       "      <td>saddlebrown</td>\n",
       "    </tr>\n",
       "    <tr>\n",
       "      <th>3</th>\n",
       "      <td>Usain Bolt</td>\n",
       "      <td>JAM</td>\n",
       "      <td>GOLD</td>\n",
       "      <td>9.69</td>\n",
       "      <td>2008</td>\n",
       "      <td>goldenrod</td>\n",
       "    </tr>\n",
       "    <tr>\n",
       "      <th>4</th>\n",
       "      <td>Richard Thompson</td>\n",
       "      <td>TRI</td>\n",
       "      <td>SILVER</td>\n",
       "      <td>9.89</td>\n",
       "      <td>2008</td>\n",
       "      <td>silver</td>\n",
       "    </tr>\n",
       "  </tbody>\n",
       "</table>\n",
       "</div>"
      ],
      "text/plain": [
       "               Name Country   Medal  Time  Year        color\n",
       "0        Usain Bolt     JAM    GOLD  9.63  2012    goldenrod\n",
       "1       Yohan Blake     JAM  SILVER  9.75  2012       silver\n",
       "2     Justin Gatlin     USA  BRONZE  9.79  2012  saddlebrown\n",
       "3        Usain Bolt     JAM    GOLD  9.69  2008    goldenrod\n",
       "4  Richard Thompson     TRI  SILVER  9.89  2008       silver"
      ]
     },
     "execution_count": 19,
     "metadata": {},
     "output_type": "execute_result"
    }
   ],
   "source": [
    "df = pd.read_csv('sprint.csv')\n",
    "df.head()"
   ]
  },
  {
   "cell_type": "code",
   "execution_count": 20,
   "metadata": {},
   "outputs": [
    {
     "data": {
      "text/html": [
       "<div>\n",
       "<style scoped>\n",
       "    .dataframe tbody tr th:only-of-type {\n",
       "        vertical-align: middle;\n",
       "    }\n",
       "\n",
       "    .dataframe tbody tr th {\n",
       "        vertical-align: top;\n",
       "    }\n",
       "\n",
       "    .dataframe thead th {\n",
       "        text-align: right;\n",
       "    }\n",
       "</style>\n",
       "<table border=\"1\" class=\"dataframe\">\n",
       "  <thead>\n",
       "    <tr style=\"text-align: right;\">\n",
       "      <th></th>\n",
       "      <th>Name</th>\n",
       "      <th>Country</th>\n",
       "      <th>Medal</th>\n",
       "      <th>Time</th>\n",
       "      <th>Year</th>\n",
       "      <th>color</th>\n",
       "    </tr>\n",
       "  </thead>\n",
       "  <tbody>\n",
       "    <tr>\n",
       "      <th>80</th>\n",
       "      <td>Stanley Rowley</td>\n",
       "      <td>AUS</td>\n",
       "      <td>BRONZE</td>\n",
       "      <td>11.2</td>\n",
       "      <td>1900</td>\n",
       "      <td>saddlebrown</td>\n",
       "    </tr>\n",
       "    <tr>\n",
       "      <th>81</th>\n",
       "      <td>Thomas Burke</td>\n",
       "      <td>USA</td>\n",
       "      <td>GOLD</td>\n",
       "      <td>12.0</td>\n",
       "      <td>1896</td>\n",
       "      <td>goldenrod</td>\n",
       "    </tr>\n",
       "    <tr>\n",
       "      <th>82</th>\n",
       "      <td>Fritz Hofmann</td>\n",
       "      <td>GER</td>\n",
       "      <td>SILVER</td>\n",
       "      <td>12.2</td>\n",
       "      <td>1896</td>\n",
       "      <td>silver</td>\n",
       "    </tr>\n",
       "    <tr>\n",
       "      <th>83</th>\n",
       "      <td>Alojz Sokol</td>\n",
       "      <td>HUN</td>\n",
       "      <td>BRONZE</td>\n",
       "      <td>12.6</td>\n",
       "      <td>1896</td>\n",
       "      <td>saddlebrown</td>\n",
       "    </tr>\n",
       "    <tr>\n",
       "      <th>84</th>\n",
       "      <td>Francis Lane</td>\n",
       "      <td>USA</td>\n",
       "      <td>BRONZE</td>\n",
       "      <td>12.6</td>\n",
       "      <td>1896</td>\n",
       "      <td>saddlebrown</td>\n",
       "    </tr>\n",
       "  </tbody>\n",
       "</table>\n",
       "</div>"
      ],
      "text/plain": [
       "              Name Country   Medal  Time  Year        color\n",
       "80  Stanley Rowley     AUS  BRONZE  11.2  1900  saddlebrown\n",
       "81    Thomas Burke     USA    GOLD  12.0  1896    goldenrod\n",
       "82   Fritz Hofmann     GER  SILVER  12.2  1896       silver\n",
       "83     Alojz Sokol     HUN  BRONZE  12.6  1896  saddlebrown\n",
       "84    Francis Lane     USA  BRONZE  12.6  1896  saddlebrown"
      ]
     },
     "execution_count": 20,
     "metadata": {},
     "output_type": "execute_result"
    }
   ],
   "source": [
    "df.tail()"
   ]
  },
  {
   "cell_type": "code",
   "execution_count": 21,
   "metadata": {},
   "outputs": [
    {
     "data": {
      "text/plain": [
       "Name       0\n",
       "Country    0\n",
       "Medal      0\n",
       "Time       0\n",
       "Year       0\n",
       "color      0\n",
       "dtype: int64"
      ]
     },
     "execution_count": 21,
     "metadata": {},
     "output_type": "execute_result"
    }
   ],
   "source": [
    "df.isnull().sum()"
   ]
  },
  {
   "cell_type": "code",
   "execution_count": 22,
   "metadata": {},
   "outputs": [],
   "source": [
    "df.columns = df.columns.str.lower()"
   ]
  },
  {
   "cell_type": "code",
   "execution_count": 23,
   "metadata": {},
   "outputs": [
    {
     "data": {
      "text/html": [
       "<div>\n",
       "<style scoped>\n",
       "    .dataframe tbody tr th:only-of-type {\n",
       "        vertical-align: middle;\n",
       "    }\n",
       "\n",
       "    .dataframe tbody tr th {\n",
       "        vertical-align: top;\n",
       "    }\n",
       "\n",
       "    .dataframe thead th {\n",
       "        text-align: right;\n",
       "    }\n",
       "</style>\n",
       "<table border=\"1\" class=\"dataframe\">\n",
       "  <thead>\n",
       "    <tr style=\"text-align: right;\">\n",
       "      <th></th>\n",
       "      <th>time</th>\n",
       "      <th>year</th>\n",
       "    </tr>\n",
       "  </thead>\n",
       "  <tbody>\n",
       "    <tr>\n",
       "      <th>count</th>\n",
       "      <td>85.000000</td>\n",
       "      <td>85.000000</td>\n",
       "    </tr>\n",
       "    <tr>\n",
       "      <th>mean</th>\n",
       "      <td>10.470706</td>\n",
       "      <td>1953.811765</td>\n",
       "    </tr>\n",
       "    <tr>\n",
       "      <th>std</th>\n",
       "      <td>0.607782</td>\n",
       "      <td>36.666611</td>\n",
       "    </tr>\n",
       "    <tr>\n",
       "      <th>min</th>\n",
       "      <td>9.630000</td>\n",
       "      <td>1896.000000</td>\n",
       "    </tr>\n",
       "    <tr>\n",
       "      <th>25%</th>\n",
       "      <td>10.020000</td>\n",
       "      <td>1920.000000</td>\n",
       "    </tr>\n",
       "    <tr>\n",
       "      <th>50%</th>\n",
       "      <td>10.300000</td>\n",
       "      <td>1956.000000</td>\n",
       "    </tr>\n",
       "    <tr>\n",
       "      <th>75%</th>\n",
       "      <td>10.900000</td>\n",
       "      <td>1984.000000</td>\n",
       "    </tr>\n",
       "    <tr>\n",
       "      <th>max</th>\n",
       "      <td>12.600000</td>\n",
       "      <td>2012.000000</td>\n",
       "    </tr>\n",
       "  </tbody>\n",
       "</table>\n",
       "</div>"
      ],
      "text/plain": [
       "            time         year\n",
       "count  85.000000    85.000000\n",
       "mean   10.470706  1953.811765\n",
       "std     0.607782    36.666611\n",
       "min     9.630000  1896.000000\n",
       "25%    10.020000  1920.000000\n",
       "50%    10.300000  1956.000000\n",
       "75%    10.900000  1984.000000\n",
       "max    12.600000  2012.000000"
      ]
     },
     "execution_count": 23,
     "metadata": {},
     "output_type": "execute_result"
    }
   ],
   "source": [
    "df.describe()"
   ]
  },
  {
   "cell_type": "code",
   "execution_count": 24,
   "metadata": {},
   "outputs": [
    {
     "data": {
      "text/plain": [
       "Index(['name', 'country', 'medal', 'time', 'year', 'color'], dtype='object')"
      ]
     },
     "execution_count": 24,
     "metadata": {},
     "output_type": "execute_result"
    }
   ],
   "source": [
    "df.columns"
   ]
  },
  {
   "cell_type": "code",
   "execution_count": 25,
   "metadata": {},
   "outputs": [
    {
     "data": {
      "text/plain": [
       "74"
      ]
     },
     "execution_count": 25,
     "metadata": {},
     "output_type": "execute_result"
    }
   ],
   "source": [
    "df['name'].nunique()"
   ]
  },
  {
   "cell_type": "code",
   "execution_count": 26,
   "metadata": {},
   "outputs": [
    {
     "data": {
      "text/plain": [
       "19"
      ]
     },
     "execution_count": 26,
     "metadata": {},
     "output_type": "execute_result"
    }
   ],
   "source": [
    "df['country'].unique()\n",
    "df['country'].nunique()"
   ]
  },
  {
   "cell_type": "code",
   "execution_count": 27,
   "metadata": {},
   "outputs": [
    {
     "data": {
      "text/plain": [
       "array(['GOLD', 'SILVER', 'BRONZE'], dtype=object)"
      ]
     },
     "execution_count": 27,
     "metadata": {},
     "output_type": "execute_result"
    }
   ],
   "source": [
    "df['medal'].unique()"
   ]
  },
  {
   "cell_type": "code",
   "execution_count": 28,
   "metadata": {},
   "outputs": [
    {
     "data": {
      "text/plain": [
       "array(['goldenrod', 'silver', 'saddlebrown'], dtype=object)"
      ]
     },
     "execution_count": 28,
     "metadata": {},
     "output_type": "execute_result"
    }
   ],
   "source": [
    "df['color'].unique()"
   ]
  },
  {
   "cell_type": "code",
   "execution_count": 29,
   "metadata": {},
   "outputs": [
    {
     "data": {
      "text/html": [
       "<div>\n",
       "<style scoped>\n",
       "    .dataframe tbody tr th:only-of-type {\n",
       "        vertical-align: middle;\n",
       "    }\n",
       "\n",
       "    .dataframe tbody tr th {\n",
       "        vertical-align: top;\n",
       "    }\n",
       "\n",
       "    .dataframe thead th {\n",
       "        text-align: right;\n",
       "    }\n",
       "</style>\n",
       "<table border=\"1\" class=\"dataframe\">\n",
       "  <thead>\n",
       "    <tr style=\"text-align: right;\">\n",
       "      <th></th>\n",
       "      <th>name</th>\n",
       "      <th>country</th>\n",
       "      <th>medal</th>\n",
       "      <th>time</th>\n",
       "      <th>year</th>\n",
       "      <th>color</th>\n",
       "    </tr>\n",
       "  </thead>\n",
       "  <tbody>\n",
       "    <tr>\n",
       "      <th>0</th>\n",
       "      <td>Usain Bolt</td>\n",
       "      <td>JAM</td>\n",
       "      <td>GOLD</td>\n",
       "      <td>9.63</td>\n",
       "      <td>2012</td>\n",
       "      <td>goldenrod</td>\n",
       "    </tr>\n",
       "    <tr>\n",
       "      <th>1</th>\n",
       "      <td>Yohan Blake</td>\n",
       "      <td>JAM</td>\n",
       "      <td>SILVER</td>\n",
       "      <td>9.75</td>\n",
       "      <td>2012</td>\n",
       "      <td>silver</td>\n",
       "    </tr>\n",
       "    <tr>\n",
       "      <th>2</th>\n",
       "      <td>Justin Gatlin</td>\n",
       "      <td>USA</td>\n",
       "      <td>BRONZE</td>\n",
       "      <td>9.79</td>\n",
       "      <td>2012</td>\n",
       "      <td>saddlebrown</td>\n",
       "    </tr>\n",
       "    <tr>\n",
       "      <th>3</th>\n",
       "      <td>Usain Bolt</td>\n",
       "      <td>JAM</td>\n",
       "      <td>GOLD</td>\n",
       "      <td>9.69</td>\n",
       "      <td>2008</td>\n",
       "      <td>goldenrod</td>\n",
       "    </tr>\n",
       "    <tr>\n",
       "      <th>4</th>\n",
       "      <td>Richard Thompson</td>\n",
       "      <td>TRI</td>\n",
       "      <td>SILVER</td>\n",
       "      <td>9.89</td>\n",
       "      <td>2008</td>\n",
       "      <td>silver</td>\n",
       "    </tr>\n",
       "    <tr>\n",
       "      <th>...</th>\n",
       "      <td>...</td>\n",
       "      <td>...</td>\n",
       "      <td>...</td>\n",
       "      <td>...</td>\n",
       "      <td>...</td>\n",
       "      <td>...</td>\n",
       "    </tr>\n",
       "    <tr>\n",
       "      <th>80</th>\n",
       "      <td>Stanley Rowley</td>\n",
       "      <td>AUS</td>\n",
       "      <td>BRONZE</td>\n",
       "      <td>11.20</td>\n",
       "      <td>1900</td>\n",
       "      <td>saddlebrown</td>\n",
       "    </tr>\n",
       "    <tr>\n",
       "      <th>81</th>\n",
       "      <td>Thomas Burke</td>\n",
       "      <td>USA</td>\n",
       "      <td>GOLD</td>\n",
       "      <td>12.00</td>\n",
       "      <td>1896</td>\n",
       "      <td>goldenrod</td>\n",
       "    </tr>\n",
       "    <tr>\n",
       "      <th>82</th>\n",
       "      <td>Fritz Hofmann</td>\n",
       "      <td>GER</td>\n",
       "      <td>SILVER</td>\n",
       "      <td>12.20</td>\n",
       "      <td>1896</td>\n",
       "      <td>silver</td>\n",
       "    </tr>\n",
       "    <tr>\n",
       "      <th>83</th>\n",
       "      <td>Alojz Sokol</td>\n",
       "      <td>HUN</td>\n",
       "      <td>BRONZE</td>\n",
       "      <td>12.60</td>\n",
       "      <td>1896</td>\n",
       "      <td>saddlebrown</td>\n",
       "    </tr>\n",
       "    <tr>\n",
       "      <th>84</th>\n",
       "      <td>Francis Lane</td>\n",
       "      <td>USA</td>\n",
       "      <td>BRONZE</td>\n",
       "      <td>12.60</td>\n",
       "      <td>1896</td>\n",
       "      <td>saddlebrown</td>\n",
       "    </tr>\n",
       "  </tbody>\n",
       "</table>\n",
       "<p>85 rows × 6 columns</p>\n",
       "</div>"
      ],
      "text/plain": [
       "                name country   medal   time  year        color\n",
       "0         Usain Bolt     JAM    GOLD   9.63  2012    goldenrod\n",
       "1        Yohan Blake     JAM  SILVER   9.75  2012       silver\n",
       "2      Justin Gatlin     USA  BRONZE   9.79  2012  saddlebrown\n",
       "3         Usain Bolt     JAM    GOLD   9.69  2008    goldenrod\n",
       "4   Richard Thompson     TRI  SILVER   9.89  2008       silver\n",
       "..               ...     ...     ...    ...   ...          ...\n",
       "80    Stanley Rowley     AUS  BRONZE  11.20  1900  saddlebrown\n",
       "81      Thomas Burke     USA    GOLD  12.00  1896    goldenrod\n",
       "82     Fritz Hofmann     GER  SILVER  12.20  1896       silver\n",
       "83       Alojz Sokol     HUN  BRONZE  12.60  1896  saddlebrown\n",
       "84      Francis Lane     USA  BRONZE  12.60  1896  saddlebrown\n",
       "\n",
       "[85 rows x 6 columns]"
      ]
     },
     "execution_count": 29,
     "metadata": {},
     "output_type": "execute_result"
    }
   ],
   "source": [
    "df"
   ]
  },
  {
   "cell_type": "code",
   "execution_count": 34,
   "metadata": {},
   "outputs": [
    {
     "data": {
      "text/html": [
       "<div>\n",
       "<style scoped>\n",
       "    .dataframe tbody tr th:only-of-type {\n",
       "        vertical-align: middle;\n",
       "    }\n",
       "\n",
       "    .dataframe tbody tr th {\n",
       "        vertical-align: top;\n",
       "    }\n",
       "\n",
       "    .dataframe thead th {\n",
       "        text-align: right;\n",
       "    }\n",
       "</style>\n",
       "<table border=\"1\" class=\"dataframe\">\n",
       "  <thead>\n",
       "    <tr style=\"text-align: right;\">\n",
       "      <th></th>\n",
       "      <th>name</th>\n",
       "      <th>country</th>\n",
       "      <th>medal</th>\n",
       "      <th>time</th>\n",
       "      <th>year</th>\n",
       "      <th>color</th>\n",
       "    </tr>\n",
       "  </thead>\n",
       "  <tbody>\n",
       "    <tr>\n",
       "      <th>0</th>\n",
       "      <td>Usain Bolt</td>\n",
       "      <td>JAM</td>\n",
       "      <td>GOLD</td>\n",
       "      <td>9.63</td>\n",
       "      <td>2012</td>\n",
       "      <td>goldenrod</td>\n",
       "    </tr>\n",
       "    <tr>\n",
       "      <th>3</th>\n",
       "      <td>Usain Bolt</td>\n",
       "      <td>JAM</td>\n",
       "      <td>GOLD</td>\n",
       "      <td>9.69</td>\n",
       "      <td>2008</td>\n",
       "      <td>goldenrod</td>\n",
       "    </tr>\n",
       "    <tr>\n",
       "      <th>6</th>\n",
       "      <td>Justin Gatlin</td>\n",
       "      <td>USA</td>\n",
       "      <td>GOLD</td>\n",
       "      <td>9.85</td>\n",
       "      <td>2004</td>\n",
       "      <td>goldenrod</td>\n",
       "    </tr>\n",
       "    <tr>\n",
       "      <th>9</th>\n",
       "      <td>Maurice Greene</td>\n",
       "      <td>USA</td>\n",
       "      <td>GOLD</td>\n",
       "      <td>9.87</td>\n",
       "      <td>2000</td>\n",
       "      <td>goldenrod</td>\n",
       "    </tr>\n",
       "    <tr>\n",
       "      <th>12</th>\n",
       "      <td>Donovan Bailey</td>\n",
       "      <td>CAN</td>\n",
       "      <td>GOLD</td>\n",
       "      <td>9.84</td>\n",
       "      <td>1996</td>\n",
       "      <td>goldenrod</td>\n",
       "    </tr>\n",
       "  </tbody>\n",
       "</table>\n",
       "</div>"
      ],
      "text/plain": [
       "              name country medal  time  year      color\n",
       "0       Usain Bolt     JAM  GOLD  9.63  2012  goldenrod\n",
       "3       Usain Bolt     JAM  GOLD  9.69  2008  goldenrod\n",
       "6    Justin Gatlin     USA  GOLD  9.85  2004  goldenrod\n",
       "9   Maurice Greene     USA  GOLD  9.87  2000  goldenrod\n",
       "12  Donovan Bailey     CAN  GOLD  9.84  1996  goldenrod"
      ]
     },
     "execution_count": 34,
     "metadata": {},
     "output_type": "execute_result"
    }
   ],
   "source": [
    "dd = df.loc[df['medal']=='GOLD']\n",
    "dd.head()"
   ]
  },
  {
   "cell_type": "code",
   "execution_count": 35,
   "metadata": {},
   "outputs": [
    {
     "data": {
      "text/plain": [
       "USA    17\n",
       "GBR     3\n",
       "JAM     2\n",
       "CAN     2\n",
       "EUA     1\n",
       "RSA     1\n",
       "TRI     1\n",
       "URS     1\n",
       "Name: country, dtype: int64"
      ]
     },
     "execution_count": 35,
     "metadata": {},
     "output_type": "execute_result"
    }
   ],
   "source": [
    "dd['country'].value_counts()"
   ]
  },
  {
   "cell_type": "code",
   "execution_count": 36,
   "metadata": {},
   "outputs": [
    {
     "data": {
      "text/plain": [
       "Charles \"Archie\" Hahn    2\n",
       "Usain Bolt               2\n",
       "Carl Lewis               2\n",
       "Maurice Greene           1\n",
       "Armin Hary               1\n",
       "Ralph Craig              1\n",
       "Frank Jarvis             1\n",
       "W. Harrison Dillard      1\n",
       "Valery Borzov            1\n",
       "Bob Hayes                1\n",
       "Hasely Crawford          1\n",
       "Jim Hines                1\n",
       "Harold Abrahams          1\n",
       "Reginald Walker          1\n",
       "T. \"Eddie\" Tolan         1\n",
       "Charles Paddock          1\n",
       "Donovan Bailey           1\n",
       "Jesse Owens              1\n",
       "Thomas Burke             1\n",
       "Allan Wells              1\n",
       "Linford Christie         1\n",
       "Justin Gatlin            1\n",
       "Percy Williams           1\n",
       "Lindy Remigino           1\n",
       "Bobby Joe Morrow         1\n",
       "Name: name, dtype: int64"
      ]
     },
     "execution_count": 36,
     "metadata": {},
     "output_type": "execute_result"
    }
   ],
   "source": [
    "dd['name'].value_counts()"
   ]
  },
  {
   "cell_type": "code",
   "execution_count": 37,
   "metadata": {},
   "outputs": [
    {
     "data": {
      "text/plain": [
       "count    28.000000\n",
       "mean     10.362500\n",
       "std       0.537309\n",
       "min       9.630000\n",
       "25%       9.957500\n",
       "50%      10.275000\n",
       "75%      10.800000\n",
       "max      12.000000\n",
       "Name: time, dtype: float64"
      ]
     },
     "execution_count": 37,
     "metadata": {},
     "output_type": "execute_result"
    }
   ],
   "source": [
    "dd['time'].describe()"
   ]
  },
  {
   "cell_type": "code",
   "execution_count": 39,
   "metadata": {},
   "outputs": [
    {
     "data": {
      "text/html": [
       "<div>\n",
       "<style scoped>\n",
       "    .dataframe tbody tr th:only-of-type {\n",
       "        vertical-align: middle;\n",
       "    }\n",
       "\n",
       "    .dataframe tbody tr th {\n",
       "        vertical-align: top;\n",
       "    }\n",
       "\n",
       "    .dataframe thead th {\n",
       "        text-align: right;\n",
       "    }\n",
       "</style>\n",
       "<table border=\"1\" class=\"dataframe\">\n",
       "  <thead>\n",
       "    <tr style=\"text-align: right;\">\n",
       "      <th></th>\n",
       "      <th>name</th>\n",
       "      <th>country</th>\n",
       "      <th>medal</th>\n",
       "      <th>time</th>\n",
       "      <th>year</th>\n",
       "      <th>color</th>\n",
       "    </tr>\n",
       "  </thead>\n",
       "  <tbody>\n",
       "    <tr>\n",
       "      <th>1</th>\n",
       "      <td>Yohan Blake</td>\n",
       "      <td>JAM</td>\n",
       "      <td>SILVER</td>\n",
       "      <td>9.75</td>\n",
       "      <td>2012</td>\n",
       "      <td>silver</td>\n",
       "    </tr>\n",
       "    <tr>\n",
       "      <th>4</th>\n",
       "      <td>Richard Thompson</td>\n",
       "      <td>TRI</td>\n",
       "      <td>SILVER</td>\n",
       "      <td>9.89</td>\n",
       "      <td>2008</td>\n",
       "      <td>silver</td>\n",
       "    </tr>\n",
       "    <tr>\n",
       "      <th>7</th>\n",
       "      <td>Francis Obikwelu</td>\n",
       "      <td>POR</td>\n",
       "      <td>SILVER</td>\n",
       "      <td>9.86</td>\n",
       "      <td>2004</td>\n",
       "      <td>silver</td>\n",
       "    </tr>\n",
       "    <tr>\n",
       "      <th>10</th>\n",
       "      <td>Ato Boldon</td>\n",
       "      <td>TRI</td>\n",
       "      <td>SILVER</td>\n",
       "      <td>9.99</td>\n",
       "      <td>2000</td>\n",
       "      <td>silver</td>\n",
       "    </tr>\n",
       "    <tr>\n",
       "      <th>13</th>\n",
       "      <td>Frankie Fredericks</td>\n",
       "      <td>NAM</td>\n",
       "      <td>SILVER</td>\n",
       "      <td>9.89</td>\n",
       "      <td>1996</td>\n",
       "      <td>silver</td>\n",
       "    </tr>\n",
       "  </tbody>\n",
       "</table>\n",
       "</div>"
      ],
      "text/plain": [
       "                  name country   medal  time  year   color\n",
       "1          Yohan Blake     JAM  SILVER  9.75  2012  silver\n",
       "4     Richard Thompson     TRI  SILVER  9.89  2008  silver\n",
       "7     Francis Obikwelu     POR  SILVER  9.86  2004  silver\n",
       "10          Ato Boldon     TRI  SILVER  9.99  2000  silver\n",
       "13  Frankie Fredericks     NAM  SILVER  9.89  1996  silver"
      ]
     },
     "execution_count": 39,
     "metadata": {},
     "output_type": "execute_result"
    }
   ],
   "source": [
    "dd1 = df.loc[df['medal']=='SILVER']\n",
    "dd1.head()"
   ]
  },
  {
   "cell_type": "code",
   "execution_count": 40,
   "metadata": {},
   "outputs": [
    {
     "data": {
      "text/html": [
       "<div>\n",
       "<style scoped>\n",
       "    .dataframe tbody tr th:only-of-type {\n",
       "        vertical-align: middle;\n",
       "    }\n",
       "\n",
       "    .dataframe tbody tr th {\n",
       "        vertical-align: top;\n",
       "    }\n",
       "\n",
       "    .dataframe thead th {\n",
       "        text-align: right;\n",
       "    }\n",
       "</style>\n",
       "<table border=\"1\" class=\"dataframe\">\n",
       "  <thead>\n",
       "    <tr style=\"text-align: right;\">\n",
       "      <th></th>\n",
       "      <th>time</th>\n",
       "      <th>year</th>\n",
       "    </tr>\n",
       "  </thead>\n",
       "  <tbody>\n",
       "    <tr>\n",
       "      <th>count</th>\n",
       "      <td>28.000000</td>\n",
       "      <td>28.000000</td>\n",
       "    </tr>\n",
       "    <tr>\n",
       "      <th>mean</th>\n",
       "      <td>10.459643</td>\n",
       "      <td>1954.500000</td>\n",
       "    </tr>\n",
       "    <tr>\n",
       "      <th>std</th>\n",
       "      <td>0.561291</td>\n",
       "      <td>36.776099</td>\n",
       "    </tr>\n",
       "    <tr>\n",
       "      <th>min</th>\n",
       "      <td>9.750000</td>\n",
       "      <td>1896.000000</td>\n",
       "    </tr>\n",
       "    <tr>\n",
       "      <th>25%</th>\n",
       "      <td>10.035000</td>\n",
       "      <td>1923.000000</td>\n",
       "    </tr>\n",
       "    <tr>\n",
       "      <th>50%</th>\n",
       "      <td>10.275000</td>\n",
       "      <td>1958.000000</td>\n",
       "    </tr>\n",
       "    <tr>\n",
       "      <th>75%</th>\n",
       "      <td>10.900000</td>\n",
       "      <td>1985.000000</td>\n",
       "    </tr>\n",
       "    <tr>\n",
       "      <th>max</th>\n",
       "      <td>12.200000</td>\n",
       "      <td>2012.000000</td>\n",
       "    </tr>\n",
       "  </tbody>\n",
       "</table>\n",
       "</div>"
      ],
      "text/plain": [
       "            time         year\n",
       "count  28.000000    28.000000\n",
       "mean   10.459643  1954.500000\n",
       "std     0.561291    36.776099\n",
       "min     9.750000  1896.000000\n",
       "25%    10.035000  1923.000000\n",
       "50%    10.275000  1958.000000\n",
       "75%    10.900000  1985.000000\n",
       "max    12.200000  2012.000000"
      ]
     },
     "execution_count": 40,
     "metadata": {},
     "output_type": "execute_result"
    }
   ],
   "source": [
    "dd1.describe()"
   ]
  },
  {
   "cell_type": "code",
   "execution_count": 42,
   "metadata": {},
   "outputs": [
    {
     "data": {
      "text/plain": [
       "USA    14\n",
       "JAM     4\n",
       "GBR     2\n",
       "TRI     2\n",
       "NAM     2\n",
       "CUB     2\n",
       "POR     1\n",
       "GER     1\n",
       "Name: country, dtype: int64"
      ]
     },
     "execution_count": 42,
     "metadata": {},
     "output_type": "execute_result"
    }
   ],
   "source": [
    "dd1['country'].value_counts()"
   ]
  },
  {
   "cell_type": "code",
   "execution_count": 43,
   "metadata": {},
   "outputs": [
    {
     "data": {
      "text/plain": [
       "Frankie Fredericks           2\n",
       "Ralph Metcalfe               2\n",
       "Donald Quarrie               1\n",
       "Richard Thompson             1\n",
       "Fay Moulton                  1\n",
       "Silvio Leonard Tartabull     1\n",
       "Nathaniel Cartmell           1\n",
       "H. Norwood \"Barney\" Ewell    1\n",
       "Francis Obikwelu             1\n",
       "Enrique Figuerola Camue      1\n",
       "Jackson Scholz               1\n",
       "Herbert McKenley             1\n",
       "Linford Christie             1\n",
       "Robert Taylor                1\n",
       "Yohan Blake                  1\n",
       "Fritz Hofmann                1\n",
       "John \"Jack\" London           1\n",
       "Sam Graddy                   1\n",
       "W. Thane Baker               1\n",
       "David Sime                   1\n",
       "Morris Kirksey               1\n",
       "Alvah Meyer                  1\n",
       "James Rector                 1\n",
       "Lennox Miller                1\n",
       "J. Walter Tewksbury          1\n",
       "Ato Boldon                   1\n",
       "Name: name, dtype: int64"
      ]
     },
     "execution_count": 43,
     "metadata": {},
     "output_type": "execute_result"
    }
   ],
   "source": [
    "dd1['name'].value_counts()"
   ]
  },
  {
   "cell_type": "code",
   "execution_count": 46,
   "metadata": {},
   "outputs": [
    {
     "data": {
      "text/html": [
       "<div>\n",
       "<style scoped>\n",
       "    .dataframe tbody tr th:only-of-type {\n",
       "        vertical-align: middle;\n",
       "    }\n",
       "\n",
       "    .dataframe tbody tr th {\n",
       "        vertical-align: top;\n",
       "    }\n",
       "\n",
       "    .dataframe thead th {\n",
       "        text-align: right;\n",
       "    }\n",
       "</style>\n",
       "<table border=\"1\" class=\"dataframe\">\n",
       "  <thead>\n",
       "    <tr style=\"text-align: right;\">\n",
       "      <th></th>\n",
       "      <th>name</th>\n",
       "      <th>country</th>\n",
       "      <th>medal</th>\n",
       "      <th>time</th>\n",
       "      <th>year</th>\n",
       "      <th>color</th>\n",
       "    </tr>\n",
       "  </thead>\n",
       "  <tbody>\n",
       "    <tr>\n",
       "      <th>2</th>\n",
       "      <td>Justin Gatlin</td>\n",
       "      <td>USA</td>\n",
       "      <td>BRONZE</td>\n",
       "      <td>9.79</td>\n",
       "      <td>2012</td>\n",
       "      <td>saddlebrown</td>\n",
       "    </tr>\n",
       "    <tr>\n",
       "      <th>5</th>\n",
       "      <td>Walter Dix</td>\n",
       "      <td>USA</td>\n",
       "      <td>BRONZE</td>\n",
       "      <td>9.91</td>\n",
       "      <td>2008</td>\n",
       "      <td>saddlebrown</td>\n",
       "    </tr>\n",
       "    <tr>\n",
       "      <th>8</th>\n",
       "      <td>Maurice Greene</td>\n",
       "      <td>USA</td>\n",
       "      <td>BRONZE</td>\n",
       "      <td>9.87</td>\n",
       "      <td>2004</td>\n",
       "      <td>saddlebrown</td>\n",
       "    </tr>\n",
       "    <tr>\n",
       "      <th>11</th>\n",
       "      <td>Obadele Thompson</td>\n",
       "      <td>BAR</td>\n",
       "      <td>BRONZE</td>\n",
       "      <td>10.04</td>\n",
       "      <td>2000</td>\n",
       "      <td>saddlebrown</td>\n",
       "    </tr>\n",
       "    <tr>\n",
       "      <th>14</th>\n",
       "      <td>Ato Boldon</td>\n",
       "      <td>TRI</td>\n",
       "      <td>BRONZE</td>\n",
       "      <td>9.90</td>\n",
       "      <td>1996</td>\n",
       "      <td>saddlebrown</td>\n",
       "    </tr>\n",
       "  </tbody>\n",
       "</table>\n",
       "</div>"
      ],
      "text/plain": [
       "                name country   medal   time  year        color\n",
       "2      Justin Gatlin     USA  BRONZE   9.79  2012  saddlebrown\n",
       "5         Walter Dix     USA  BRONZE   9.91  2008  saddlebrown\n",
       "8     Maurice Greene     USA  BRONZE   9.87  2004  saddlebrown\n",
       "11  Obadele Thompson     BAR  BRONZE  10.04  2000  saddlebrown\n",
       "14        Ato Boldon     TRI  BRONZE   9.90  1996  saddlebrown"
      ]
     },
     "execution_count": 46,
     "metadata": {},
     "output_type": "execute_result"
    }
   ],
   "source": [
    "dd2 = df.loc[df['medal']=='BRONZE']\n",
    "dd2.head()"
   ]
  },
  {
   "cell_type": "code",
   "execution_count": 51,
   "metadata": {},
   "outputs": [
    {
     "data": {
      "text/html": [
       "<div>\n",
       "<style scoped>\n",
       "    .dataframe tbody tr th:only-of-type {\n",
       "        vertical-align: middle;\n",
       "    }\n",
       "\n",
       "    .dataframe tbody tr th {\n",
       "        vertical-align: top;\n",
       "    }\n",
       "\n",
       "    .dataframe thead th {\n",
       "        text-align: right;\n",
       "    }\n",
       "</style>\n",
       "<table border=\"1\" class=\"dataframe\">\n",
       "  <thead>\n",
       "    <tr style=\"text-align: right;\">\n",
       "      <th></th>\n",
       "      <th>name</th>\n",
       "      <th>country</th>\n",
       "      <th>medal</th>\n",
       "      <th>time</th>\n",
       "      <th>year</th>\n",
       "      <th>color</th>\n",
       "    </tr>\n",
       "  </thead>\n",
       "  <tbody>\n",
       "    <tr>\n",
       "      <th>count</th>\n",
       "      <td>29</td>\n",
       "      <td>29</td>\n",
       "      <td>29</td>\n",
       "      <td>29.000000</td>\n",
       "      <td>29.000000</td>\n",
       "      <td>29</td>\n",
       "    </tr>\n",
       "    <tr>\n",
       "      <th>unique</th>\n",
       "      <td>29</td>\n",
       "      <td>14</td>\n",
       "      <td>1</td>\n",
       "      <td>NaN</td>\n",
       "      <td>NaN</td>\n",
       "      <td>1</td>\n",
       "    </tr>\n",
       "    <tr>\n",
       "      <th>top</th>\n",
       "      <td>Maurice Greene</td>\n",
       "      <td>USA</td>\n",
       "      <td>BRONZE</td>\n",
       "      <td>NaN</td>\n",
       "      <td>NaN</td>\n",
       "      <td>saddlebrown</td>\n",
       "    </tr>\n",
       "    <tr>\n",
       "      <th>freq</th>\n",
       "      <td>1</td>\n",
       "      <td>9</td>\n",
       "      <td>29</td>\n",
       "      <td>NaN</td>\n",
       "      <td>NaN</td>\n",
       "      <td>29</td>\n",
       "    </tr>\n",
       "    <tr>\n",
       "      <th>mean</th>\n",
       "      <td>NaN</td>\n",
       "      <td>NaN</td>\n",
       "      <td>NaN</td>\n",
       "      <td>10.585862</td>\n",
       "      <td>1952.482759</td>\n",
       "      <td>NaN</td>\n",
       "    </tr>\n",
       "    <tr>\n",
       "      <th>std</th>\n",
       "      <td>NaN</td>\n",
       "      <td>NaN</td>\n",
       "      <td>NaN</td>\n",
       "      <td>0.707422</td>\n",
       "      <td>37.711897</td>\n",
       "      <td>NaN</td>\n",
       "    </tr>\n",
       "    <tr>\n",
       "      <th>min</th>\n",
       "      <td>NaN</td>\n",
       "      <td>NaN</td>\n",
       "      <td>NaN</td>\n",
       "      <td>9.790000</td>\n",
       "      <td>1896.000000</td>\n",
       "      <td>NaN</td>\n",
       "    </tr>\n",
       "    <tr>\n",
       "      <th>25%</th>\n",
       "      <td>NaN</td>\n",
       "      <td>NaN</td>\n",
       "      <td>NaN</td>\n",
       "      <td>10.070000</td>\n",
       "      <td>1920.000000</td>\n",
       "      <td>NaN</td>\n",
       "    </tr>\n",
       "    <tr>\n",
       "      <th>50%</th>\n",
       "      <td>NaN</td>\n",
       "      <td>NaN</td>\n",
       "      <td>NaN</td>\n",
       "      <td>10.400000</td>\n",
       "      <td>1956.000000</td>\n",
       "      <td>NaN</td>\n",
       "    </tr>\n",
       "    <tr>\n",
       "      <th>75%</th>\n",
       "      <td>NaN</td>\n",
       "      <td>NaN</td>\n",
       "      <td>NaN</td>\n",
       "      <td>10.900000</td>\n",
       "      <td>1984.000000</td>\n",
       "      <td>NaN</td>\n",
       "    </tr>\n",
       "    <tr>\n",
       "      <th>max</th>\n",
       "      <td>NaN</td>\n",
       "      <td>NaN</td>\n",
       "      <td>NaN</td>\n",
       "      <td>12.600000</td>\n",
       "      <td>2012.000000</td>\n",
       "      <td>NaN</td>\n",
       "    </tr>\n",
       "  </tbody>\n",
       "</table>\n",
       "</div>"
      ],
      "text/plain": [
       "                  name country   medal       time         year        color\n",
       "count               29      29      29  29.000000    29.000000           29\n",
       "unique              29      14       1        NaN          NaN            1\n",
       "top     Maurice Greene     USA  BRONZE        NaN          NaN  saddlebrown\n",
       "freq                 1       9      29        NaN          NaN           29\n",
       "mean               NaN     NaN     NaN  10.585862  1952.482759          NaN\n",
       "std                NaN     NaN     NaN   0.707422    37.711897          NaN\n",
       "min                NaN     NaN     NaN   9.790000  1896.000000          NaN\n",
       "25%                NaN     NaN     NaN  10.070000  1920.000000          NaN\n",
       "50%                NaN     NaN     NaN  10.400000  1956.000000          NaN\n",
       "75%                NaN     NaN     NaN  10.900000  1984.000000          NaN\n",
       "max                NaN     NaN     NaN  12.600000  2012.000000          NaN"
      ]
     },
     "execution_count": 51,
     "metadata": {},
     "output_type": "execute_result"
    }
   ],
   "source": [
    "dd2.describe(include='all')"
   ]
  },
  {
   "cell_type": "code",
   "execution_count": 52,
   "metadata": {},
   "outputs": [
    {
     "data": {
      "text/plain": [
       "USA    9\n",
       "AUS    3\n",
       "GBR    3\n",
       "CAN    3\n",
       "GER    2\n",
       "JAM    1\n",
       "HUN    1\n",
       "TRI    1\n",
       "URS    1\n",
       "BUL    1\n",
       "BAR    1\n",
       "PAN    1\n",
       "NZL    1\n",
       "NED    1\n",
       "Name: country, dtype: int64"
      ]
     },
     "execution_count": 52,
     "metadata": {},
     "output_type": "execute_result"
    }
   ],
   "source": [
    "dd2['country'].value_counts()"
   ]
  },
  {
   "cell_type": "code",
   "execution_count": 53,
   "metadata": {},
   "outputs": [
    {
     "data": {
      "text/plain": [
       "saddlebrown    29\n",
       "silver         28\n",
       "goldenrod      28\n",
       "Name: color, dtype: int64"
      ]
     },
     "execution_count": 53,
     "metadata": {},
     "output_type": "execute_result"
    }
   ],
   "source": [
    "df['color'].value_counts()"
   ]
  },
  {
   "cell_type": "code",
   "execution_count": 56,
   "metadata": {},
   "outputs": [
    {
     "data": {
      "text/plain": [
       "Text(0.5, 1.0, 'This shows that the medals match their color')"
      ]
     },
     "execution_count": 56,
     "metadata": {},
     "output_type": "execute_result"
    },
    {
     "data": {
      "image/png": "[encoded data removed]",
      "text/plain": [
       "<Figure size 432x288 with 1 Axes>"
      ]
     },
     "metadata": {
      "needs_background": "light"
     },
     "output_type": "display_data"
    }
   ],
   "source": [
    "plt.plot(df['color'],df['medal'])\n",
    "plt.xlabel('Medals')\n",
    "plt.ylabel('Color')\n",
    "plt.title('This shows that the medals match their color')"
   ]
  },
  {
   "cell_type": "code",
   "execution_count": 57,
   "metadata": {},
   "outputs": [
    {
     "data": {
      "text/html": [
       "<div>\n",
       "<style scoped>\n",
       "    .dataframe tbody tr th:only-of-type {\n",
       "        vertical-align: middle;\n",
       "    }\n",
       "\n",
       "    .dataframe tbody tr th {\n",
       "        vertical-align: top;\n",
       "    }\n",
       "\n",
       "    .dataframe thead th {\n",
       "        text-align: right;\n",
       "    }\n",
       "</style>\n",
       "<table border=\"1\" class=\"dataframe\">\n",
       "  <thead>\n",
       "    <tr style=\"text-align: right;\">\n",
       "      <th></th>\n",
       "      <th>name</th>\n",
       "      <th>country</th>\n",
       "      <th>medal</th>\n",
       "      <th>time</th>\n",
       "      <th>year</th>\n",
       "      <th>color</th>\n",
       "    </tr>\n",
       "  </thead>\n",
       "  <tbody>\n",
       "    <tr>\n",
       "      <th>0</th>\n",
       "      <td>Usain Bolt</td>\n",
       "      <td>JAM</td>\n",
       "      <td>GOLD</td>\n",
       "      <td>9.63</td>\n",
       "      <td>2012</td>\n",
       "      <td>goldenrod</td>\n",
       "    </tr>\n",
       "    <tr>\n",
       "      <th>1</th>\n",
       "      <td>Yohan Blake</td>\n",
       "      <td>JAM</td>\n",
       "      <td>SILVER</td>\n",
       "      <td>9.75</td>\n",
       "      <td>2012</td>\n",
       "      <td>silver</td>\n",
       "    </tr>\n",
       "    <tr>\n",
       "      <th>2</th>\n",
       "      <td>Justin Gatlin</td>\n",
       "      <td>USA</td>\n",
       "      <td>BRONZE</td>\n",
       "      <td>9.79</td>\n",
       "      <td>2012</td>\n",
       "      <td>saddlebrown</td>\n",
       "    </tr>\n",
       "    <tr>\n",
       "      <th>3</th>\n",
       "      <td>Usain Bolt</td>\n",
       "      <td>JAM</td>\n",
       "      <td>GOLD</td>\n",
       "      <td>9.69</td>\n",
       "      <td>2008</td>\n",
       "      <td>goldenrod</td>\n",
       "    </tr>\n",
       "    <tr>\n",
       "      <th>4</th>\n",
       "      <td>Richard Thompson</td>\n",
       "      <td>TRI</td>\n",
       "      <td>SILVER</td>\n",
       "      <td>9.89</td>\n",
       "      <td>2008</td>\n",
       "      <td>silver</td>\n",
       "    </tr>\n",
       "    <tr>\n",
       "      <th>...</th>\n",
       "      <td>...</td>\n",
       "      <td>...</td>\n",
       "      <td>...</td>\n",
       "      <td>...</td>\n",
       "      <td>...</td>\n",
       "      <td>...</td>\n",
       "    </tr>\n",
       "    <tr>\n",
       "      <th>80</th>\n",
       "      <td>Stanley Rowley</td>\n",
       "      <td>AUS</td>\n",
       "      <td>BRONZE</td>\n",
       "      <td>11.20</td>\n",
       "      <td>1900</td>\n",
       "      <td>saddlebrown</td>\n",
       "    </tr>\n",
       "    <tr>\n",
       "      <th>81</th>\n",
       "      <td>Thomas Burke</td>\n",
       "      <td>USA</td>\n",
       "      <td>GOLD</td>\n",
       "      <td>12.00</td>\n",
       "      <td>1896</td>\n",
       "      <td>goldenrod</td>\n",
       "    </tr>\n",
       "    <tr>\n",
       "      <th>82</th>\n",
       "      <td>Fritz Hofmann</td>\n",
       "      <td>GER</td>\n",
       "      <td>SILVER</td>\n",
       "      <td>12.20</td>\n",
       "      <td>1896</td>\n",
       "      <td>silver</td>\n",
       "    </tr>\n",
       "    <tr>\n",
       "      <th>83</th>\n",
       "      <td>Alojz Sokol</td>\n",
       "      <td>HUN</td>\n",
       "      <td>BRONZE</td>\n",
       "      <td>12.60</td>\n",
       "      <td>1896</td>\n",
       "      <td>saddlebrown</td>\n",
       "    </tr>\n",
       "    <tr>\n",
       "      <th>84</th>\n",
       "      <td>Francis Lane</td>\n",
       "      <td>USA</td>\n",
       "      <td>BRONZE</td>\n",
       "      <td>12.60</td>\n",
       "      <td>1896</td>\n",
       "      <td>saddlebrown</td>\n",
       "    </tr>\n",
       "  </tbody>\n",
       "</table>\n",
       "<p>85 rows × 6 columns</p>\n",
       "</div>"
      ],
      "text/plain": [
       "                name country   medal   time  year        color\n",
       "0         Usain Bolt     JAM    GOLD   9.63  2012    goldenrod\n",
       "1        Yohan Blake     JAM  SILVER   9.75  2012       silver\n",
       "2      Justin Gatlin     USA  BRONZE   9.79  2012  saddlebrown\n",
       "3         Usain Bolt     JAM    GOLD   9.69  2008    goldenrod\n",
       "4   Richard Thompson     TRI  SILVER   9.89  2008       silver\n",
       "..               ...     ...     ...    ...   ...          ...\n",
       "80    Stanley Rowley     AUS  BRONZE  11.20  1900  saddlebrown\n",
       "81      Thomas Burke     USA    GOLD  12.00  1896    goldenrod\n",
       "82     Fritz Hofmann     GER  SILVER  12.20  1896       silver\n",
       "83       Alojz Sokol     HUN  BRONZE  12.60  1896  saddlebrown\n",
       "84      Francis Lane     USA  BRONZE  12.60  1896  saddlebrown\n",
       "\n",
       "[85 rows x 6 columns]"
      ]
     },
     "execution_count": 57,
     "metadata": {},
     "output_type": "execute_result"
    }
   ],
   "source": [
    "df"
   ]
  },
  {
   "cell_type": "code",
   "execution_count": 70,
   "metadata": {},
   "outputs": [
    {
     "data": {
      "text/plain": [
       "Text(0.5, 1.0, 'The graph shows that sprinters have been getting faster over the years')"
      ]
     },
     "execution_count": 70,
     "metadata": {},
     "output_type": "execute_result"
    },
    {
     "data": {
      "image/png": "[encoded data removed]",
      "text/plain": [
       "<Figure size 432x288 with 1 Axes>"
      ]
     },
     "metadata": {
      "needs_background": "light"
     },
     "output_type": "display_data"
    }
   ],
   "source": [
    "plt.scatter(df['year'],df['time'])\n",
    "plt.xlabel('Year')\n",
    "plt.ylabel('Time in seconds')\n",
    "plt.title('The graph shows that sprinters have been getting faster over the years')"
   ]
  },
  {
   "cell_type": "code",
   "execution_count": 71,
   "metadata": {},
   "outputs": [
    {
     "data": {
      "text/html": [
       "<div>\n",
       "<style scoped>\n",
       "    .dataframe tbody tr th:only-of-type {\n",
       "        vertical-align: middle;\n",
       "    }\n",
       "\n",
       "    .dataframe tbody tr th {\n",
       "        vertical-align: top;\n",
       "    }\n",
       "\n",
       "    .dataframe thead th {\n",
       "        text-align: right;\n",
       "    }\n",
       "</style>\n",
       "<table border=\"1\" class=\"dataframe\">\n",
       "  <thead>\n",
       "    <tr style=\"text-align: right;\">\n",
       "      <th></th>\n",
       "      <th>name</th>\n",
       "      <th>country</th>\n",
       "      <th>medal</th>\n",
       "      <th>time</th>\n",
       "      <th>year</th>\n",
       "      <th>color</th>\n",
       "    </tr>\n",
       "  </thead>\n",
       "  <tbody>\n",
       "    <tr>\n",
       "      <th>0</th>\n",
       "      <td>Usain Bolt</td>\n",
       "      <td>JAM</td>\n",
       "      <td>GOLD</td>\n",
       "      <td>9.63</td>\n",
       "      <td>2012</td>\n",
       "      <td>goldenrod</td>\n",
       "    </tr>\n",
       "    <tr>\n",
       "      <th>1</th>\n",
       "      <td>Yohan Blake</td>\n",
       "      <td>JAM</td>\n",
       "      <td>SILVER</td>\n",
       "      <td>9.75</td>\n",
       "      <td>2012</td>\n",
       "      <td>silver</td>\n",
       "    </tr>\n",
       "    <tr>\n",
       "      <th>2</th>\n",
       "      <td>Justin Gatlin</td>\n",
       "      <td>USA</td>\n",
       "      <td>BRONZE</td>\n",
       "      <td>9.79</td>\n",
       "      <td>2012</td>\n",
       "      <td>saddlebrown</td>\n",
       "    </tr>\n",
       "    <tr>\n",
       "      <th>3</th>\n",
       "      <td>Usain Bolt</td>\n",
       "      <td>JAM</td>\n",
       "      <td>GOLD</td>\n",
       "      <td>9.69</td>\n",
       "      <td>2008</td>\n",
       "      <td>goldenrod</td>\n",
       "    </tr>\n",
       "    <tr>\n",
       "      <th>4</th>\n",
       "      <td>Richard Thompson</td>\n",
       "      <td>TRI</td>\n",
       "      <td>SILVER</td>\n",
       "      <td>9.89</td>\n",
       "      <td>2008</td>\n",
       "      <td>silver</td>\n",
       "    </tr>\n",
       "    <tr>\n",
       "      <th>...</th>\n",
       "      <td>...</td>\n",
       "      <td>...</td>\n",
       "      <td>...</td>\n",
       "      <td>...</td>\n",
       "      <td>...</td>\n",
       "      <td>...</td>\n",
       "    </tr>\n",
       "    <tr>\n",
       "      <th>80</th>\n",
       "      <td>Stanley Rowley</td>\n",
       "      <td>AUS</td>\n",
       "      <td>BRONZE</td>\n",
       "      <td>11.20</td>\n",
       "      <td>1900</td>\n",
       "      <td>saddlebrown</td>\n",
       "    </tr>\n",
       "    <tr>\n",
       "      <th>81</th>\n",
       "      <td>Thomas Burke</td>\n",
       "      <td>USA</td>\n",
       "      <td>GOLD</td>\n",
       "      <td>12.00</td>\n",
       "      <td>1896</td>\n",
       "      <td>goldenrod</td>\n",
       "    </tr>\n",
       "    <tr>\n",
       "      <th>82</th>\n",
       "      <td>Fritz Hofmann</td>\n",
       "      <td>GER</td>\n",
       "      <td>SILVER</td>\n",
       "      <td>12.20</td>\n",
       "      <td>1896</td>\n",
       "      <td>silver</td>\n",
       "    </tr>\n",
       "    <tr>\n",
       "      <th>83</th>\n",
       "      <td>Alojz Sokol</td>\n",
       "      <td>HUN</td>\n",
       "      <td>BRONZE</td>\n",
       "      <td>12.60</td>\n",
       "      <td>1896</td>\n",
       "      <td>saddlebrown</td>\n",
       "    </tr>\n",
       "    <tr>\n",
       "      <th>84</th>\n",
       "      <td>Francis Lane</td>\n",
       "      <td>USA</td>\n",
       "      <td>BRONZE</td>\n",
       "      <td>12.60</td>\n",
       "      <td>1896</td>\n",
       "      <td>saddlebrown</td>\n",
       "    </tr>\n",
       "  </tbody>\n",
       "</table>\n",
       "<p>85 rows × 6 columns</p>\n",
       "</div>"
      ],
      "text/plain": [
       "                name country   medal   time  year        color\n",
       "0         Usain Bolt     JAM    GOLD   9.63  2012    goldenrod\n",
       "1        Yohan Blake     JAM  SILVER   9.75  2012       silver\n",
       "2      Justin Gatlin     USA  BRONZE   9.79  2012  saddlebrown\n",
       "3         Usain Bolt     JAM    GOLD   9.69  2008    goldenrod\n",
       "4   Richard Thompson     TRI  SILVER   9.89  2008       silver\n",
       "..               ...     ...     ...    ...   ...          ...\n",
       "80    Stanley Rowley     AUS  BRONZE  11.20  1900  saddlebrown\n",
       "81      Thomas Burke     USA    GOLD  12.00  1896    goldenrod\n",
       "82     Fritz Hofmann     GER  SILVER  12.20  1896       silver\n",
       "83       Alojz Sokol     HUN  BRONZE  12.60  1896  saddlebrown\n",
       "84      Francis Lane     USA  BRONZE  12.60  1896  saddlebrown\n",
       "\n",
       "[85 rows x 6 columns]"
      ]
     },
     "execution_count": 71,
     "metadata": {},
     "output_type": "execute_result"
    }
   ],
   "source": [
    "df"
   ]
  },
  {
   "cell_type": "code",
   "execution_count": 72,
   "metadata": {},
   "outputs": [],
   "source": [
    "df.to_csv('sprint_cleaned')"
   ]
  },
  {
   "cell_type": "code",
   "execution_count": 73,
   "metadata": {},
   "outputs": [
    {
     "data": {
      "text/plain": [
       "'C:\\\\Users\\\\user\\\\Downloads'"
      ]
     },
     "execution_count": 73,
     "metadata": {},
     "output_type": "execute_result"
    }
   ],
   "source": [
    "pwd"
   ]
  },
  {
   "cell_type": "code",
   "execution_count": null,
   "metadata": {},
   "outputs": [],
   "source": []
  }
 ],
 "metadata": {
  "kernelspec": {
   "display_name": "Python 3",
   "language": "python",
   "name": "python3"
  },
  "language_info": {
   "codemirror_mode": {
    "name": "ipython",
    "version": 3
   },
   "file_extension": ".py",
   "mimetype": "text/x-python",
   "name": "python",
   "nbconvert_exporter": "python",
   "pygments_lexer": "ipython3",
   "version": "3.8.3"
  }
 },
 "nbformat": 4,
 "nbformat_minor": 4
}
